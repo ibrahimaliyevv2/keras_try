{
  "nbformat": 4,
  "nbformat_minor": 0,
  "metadata": {
    "colab": {
      "provenance": []
    },
    "kernelspec": {
      "name": "python3",
      "display_name": "Python 3"
    },
    "language_info": {
      "name": "python"
    }
  },
  "cells": [
    {
      "cell_type": "code",
      "execution_count": 2,
      "metadata": {
        "id": "8ayCskHmK5Ag"
      },
      "outputs": [],
      "source": [
        "import numpy as np\n",
        "from tensorflow import keras\n",
        "from tensorflow.keras import layers"
      ]
    },
    {
      "cell_type": "code",
      "source": [
        "# Model / data parameters\n",
        "num_classes = 10\n",
        "input_shape = (28, 28, 1)\n",
        "\n",
        "# Load the data and split it between train and test sets\n",
        "(x_train, y_train), (x_test, y_test) = keras.datasets.mnist.load_data()\n",
        "\n",
        "# Scale images to the [0, 1] range\n",
        "x_train = x_train.astype(\"float32\") / 255\n",
        "x_test = x_test.astype(\"float32\") / 255\n",
        "# Make sure images have shape (28, 28, 1)\n",
        "x_train = np.expand_dims(x_train, -1)\n",
        "x_test = np.expand_dims(x_test, -1)\n",
        "print(\"x_train shape:\", x_train.shape)\n",
        "print(x_train.shape[0], \"train samples\")\n",
        "print(x_test.shape[0], \"test samples\")\n",
        "\n",
        "\n",
        "# convert class vectors to binary class matrices\n",
        "y_train = keras.utils.to_categorical(y_train, num_classes)\n",
        "y_test = keras.utils.to_categorical(y_test, num_classes)"
      ],
      "metadata": {
        "id": "wQ9YqmG0Nnxz",
        "colab": {
          "base_uri": "https://localhost:8080/"
        },
        "outputId": "eec3ae6f-083c-45db-fd9b-1a83ffb97a66"
      },
      "execution_count": 3,
      "outputs": [
        {
          "output_type": "stream",
          "name": "stdout",
          "text": [
            "Downloading data from https://storage.googleapis.com/tensorflow/tf-keras-datasets/mnist.npz\n",
            "11490434/11490434 [==============================] - 0s 0us/step\n",
            "x_train shape: (60000, 28, 28, 1)\n",
            "60000 train samples\n",
            "10000 test samples\n"
          ]
        }
      ]
    },
    {
      "cell_type": "code",
      "source": [
        "model = keras.Sequential(\n",
        "    [\n",
        "        keras.Input(shape=input_shape),\n",
        "        layers.Conv2D(32, kernel_size=(3, 3), activation=\"relu\"),\n",
        "        layers.MaxPooling2D(pool_size=(2, 2)),\n",
        "        layers.Conv2D(64, kernel_size=(3, 3), activation=\"relu\"),\n",
        "        layers.MaxPooling2D(pool_size=(2, 2)),\n",
        "        layers.Flatten(),\n",
        "        layers.Dense(num_classes, activation=\"softmax\"),\n",
        "    ]\n",
        ")\n",
        "\n",
        "model.summary()"
      ],
      "metadata": {
        "colab": {
          "base_uri": "https://localhost:8080/"
        },
        "id": "Xg0x8yBMO2wl",
        "outputId": "3c36cfea-4d22-43bd-951a-f20a2f2f3660"
      },
      "execution_count": 7,
      "outputs": [
        {
          "output_type": "stream",
          "name": "stdout",
          "text": [
            "Model: \"sequential_1\"\n",
            "_________________________________________________________________\n",
            " Layer (type)                Output Shape              Param #   \n",
            "=================================================================\n",
            " conv2d_2 (Conv2D)           (None, 26, 26, 32)        320       \n",
            "                                                                 \n",
            " max_pooling2d_2 (MaxPooling  (None, 13, 13, 32)       0         \n",
            " 2D)                                                             \n",
            "                                                                 \n",
            " conv2d_3 (Conv2D)           (None, 11, 11, 64)        18496     \n",
            "                                                                 \n",
            " max_pooling2d_3 (MaxPooling  (None, 5, 5, 64)         0         \n",
            " 2D)                                                             \n",
            "                                                                 \n",
            " flatten_1 (Flatten)         (None, 1600)              0         \n",
            "                                                                 \n",
            " dense_1 (Dense)             (None, 10)                16010     \n",
            "                                                                 \n",
            "=================================================================\n",
            "Total params: 34,826\n",
            "Trainable params: 34,826\n",
            "Non-trainable params: 0\n",
            "_________________________________________________________________\n"
          ]
        }
      ]
    },
    {
      "cell_type": "code",
      "source": [
        "batch_size = 128\n",
        "epochs = 15\n",
        "\n",
        "model.compile(loss=\"categorical_crossentropy\", optimizer=\"adam\", metrics=[\"accuracy\"])\n",
        "\n",
        "model.fit(x_train, y_train, batch_size=batch_size, epochs=epochs, validation_split=0.1)"
      ],
      "metadata": {
        "colab": {
          "base_uri": "https://localhost:8080/"
        },
        "id": "SwAuCxa6O72o",
        "outputId": "c5c48b84-0c5f-4079-c8b6-05f13c482306"
      },
      "execution_count": 8,
      "outputs": [
        {
          "output_type": "stream",
          "name": "stdout",
          "text": [
            "Epoch 1/15\n",
            "422/422 [==============================] - 45s 106ms/step - loss: 0.2850 - accuracy: 0.9195 - val_loss: 0.0788 - val_accuracy: 0.9800\n",
            "Epoch 2/15\n",
            "422/422 [==============================] - 46s 108ms/step - loss: 0.0767 - accuracy: 0.9769 - val_loss: 0.0580 - val_accuracy: 0.9818\n",
            "Epoch 3/15\n",
            "422/422 [==============================] - 44s 105ms/step - loss: 0.0571 - accuracy: 0.9824 - val_loss: 0.0503 - val_accuracy: 0.9853\n",
            "Epoch 4/15\n",
            "422/422 [==============================] - 44s 105ms/step - loss: 0.0469 - accuracy: 0.9856 - val_loss: 0.0478 - val_accuracy: 0.9867\n",
            "Epoch 5/15\n",
            "422/422 [==============================] - 44s 105ms/step - loss: 0.0403 - accuracy: 0.9877 - val_loss: 0.0398 - val_accuracy: 0.9883\n",
            "Epoch 6/15\n",
            "422/422 [==============================] - 44s 105ms/step - loss: 0.0346 - accuracy: 0.9894 - val_loss: 0.0437 - val_accuracy: 0.9872\n",
            "Epoch 7/15\n",
            "422/422 [==============================] - 44s 105ms/step - loss: 0.0291 - accuracy: 0.9909 - val_loss: 0.0405 - val_accuracy: 0.9878\n",
            "Epoch 8/15\n",
            "422/422 [==============================] - 45s 106ms/step - loss: 0.0265 - accuracy: 0.9916 - val_loss: 0.0389 - val_accuracy: 0.9880\n",
            "Epoch 9/15\n",
            "422/422 [==============================] - 46s 108ms/step - loss: 0.0220 - accuracy: 0.9930 - val_loss: 0.0438 - val_accuracy: 0.9875\n",
            "Epoch 10/15\n",
            "422/422 [==============================] - 45s 107ms/step - loss: 0.0208 - accuracy: 0.9932 - val_loss: 0.0373 - val_accuracy: 0.9898\n",
            "Epoch 11/15\n",
            "422/422 [==============================] - 44s 105ms/step - loss: 0.0173 - accuracy: 0.9945 - val_loss: 0.0343 - val_accuracy: 0.9903\n",
            "Epoch 12/15\n",
            "422/422 [==============================] - 44s 105ms/step - loss: 0.0155 - accuracy: 0.9951 - val_loss: 0.0513 - val_accuracy: 0.9873\n",
            "Epoch 13/15\n",
            "422/422 [==============================] - 44s 105ms/step - loss: 0.0130 - accuracy: 0.9961 - val_loss: 0.0390 - val_accuracy: 0.9885\n",
            "Epoch 14/15\n",
            "422/422 [==============================] - 44s 105ms/step - loss: 0.0118 - accuracy: 0.9962 - val_loss: 0.0366 - val_accuracy: 0.9915\n",
            "Epoch 15/15\n",
            "422/422 [==============================] - 44s 105ms/step - loss: 0.0093 - accuracy: 0.9969 - val_loss: 0.0411 - val_accuracy: 0.9905\n"
          ]
        },
        {
          "output_type": "execute_result",
          "data": {
            "text/plain": [
              "<keras.callbacks.History at 0x7f3596b3c450>"
            ]
          },
          "metadata": {},
          "execution_count": 8
        }
      ]
    },
    {
      "cell_type": "code",
      "source": [
        "score = model.evaluate(x_test, y_test, verbose=0)\n",
        "print(\"Test loss:\", score[0])\n",
        "print(\"Test accuracy:\", score[1])"
      ],
      "metadata": {
        "colab": {
          "base_uri": "https://localhost:8080/"
        },
        "id": "72x55e8JO8ae",
        "outputId": "858b55c7-c249-4c49-b292-6d45c0ebf900"
      },
      "execution_count": 6,
      "outputs": [
        {
          "output_type": "stream",
          "name": "stdout",
          "text": [
            "Test loss: 0.0253605879843235\n",
            "Test accuracy: 0.9912999868392944\n"
          ]
        }
      ]
    },
    {
      "cell_type": "code",
      "source": [],
      "metadata": {
        "id": "FV4II5UQRziY"
      },
      "execution_count": null,
      "outputs": []
    }
  ]
}